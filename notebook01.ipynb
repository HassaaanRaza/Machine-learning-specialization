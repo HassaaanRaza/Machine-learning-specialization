{
 "cells": [
  {
   "cell_type": "code",
   "execution_count": null,
   "id": "2f71b337",
   "metadata": {},
   "outputs": [],
   "source": [
    "# this is the first notebook of course \"machine learning specialization\"\n",
    "# this notebook contain the code for implementing straight line"
   ]
  },
  {
   "cell_type": "code",
   "execution_count": 2,
   "id": "f4b4bf2a",
   "metadata": {},
   "outputs": [],
   "source": [
    "import numpy as np\n",
    "import matplotlib.pyplot as plt"
   ]
  },
  {
   "cell_type": "code",
   "execution_count": 3,
   "id": "48bc33e9",
   "metadata": {},
   "outputs": [
    {
     "name": "stdout",
     "output_type": "stream",
     "text": [
      "x_train: [1 2 3 4 7]\n",
      "y_train: [ 300  500  700  900 1100]\n"
     ]
    }
   ],
   "source": [
    "# making training data for x_train and for y_train\n",
    "\n",
    "x_train = np.array([1,2,3,4,7])\n",
    "y_train = np.array([ 300, 500, 700, 900, 1100])\n",
    "\n",
    "print(f\"x_train: {x_train}\")\n",
    "print(f\"y_train: {y_train}\")"
   ]
  },
  {
   "cell_type": "code",
   "execution_count": 5,
   "id": "22917002",
   "metadata": {},
   "outputs": [
    {
     "name": "stdout",
     "output_type": "stream",
     "text": [
      "length of x_train: 5\n",
      "length of y_train: 5\n"
     ]
    }
   ],
   "source": [
    "print(f\"length of x_train: {len(x_train)}\")\n",
    "print(f\"length of y_train: {len(y_train)}\")"
   ]
  },
  {
   "cell_type": "code",
   "execution_count": 7,
   "id": "d3b62812",
   "metadata": {},
   "outputs": [
    {
     "name": "stdout",
     "output_type": "stream",
     "text": [
      "x_train shape: 5\n",
      "y_train shape: 5\n"
     ]
    }
   ],
   "source": [
    "# alternate way\n",
    "print(f\"x_train shape: {x_train.shape[0]}\")\n",
    "print(f\"y_train shape: {y_train.shape[0]}\")"
   ]
  },
  {
   "cell_type": "code",
   "execution_count": 14,
   "id": "c5399a02",
   "metadata": {},
   "outputs": [
    {
     "name": "stdout",
     "output_type": "stream",
     "text": [
      "No.of training examples: 5\n"
     ]
    }
   ],
   "source": [
    "m = x_train.shape[0]\n",
    "\n",
    "print(f\"No.of training examples: {m}\")"
   ]
  },
  {
   "cell_type": "code",
   "execution_count": null,
   "id": "e906c7bf",
   "metadata": {},
   "outputs": [
    {
     "name": "stdout",
     "output_type": "stream",
     "text": [
      "(x^(0),y^(0)) = (1, 300)\n",
      "(x^(1),y^(1)) = (2, 500)\n",
      "(x^(2),y^(2)) = (3, 700)\n",
      "(x^(3),y^(3)) = (4, 900)\n",
      "(x^(4),y^(4)) = (7, 1100)\n"
     ]
    }
   ],
   "source": [
    "# inorder to fit staright line of all the training examples we have to\n",
    "# run the loop for all training examples means m no of times\n",
    "for i in range(len(x_train)):\n",
    "    \n",
    "    x_i = x_train[i]\n",
    "    y_i = y_train[i]\n",
    "    print(f\"(x^({i}),y^({i})) = ({x_i}, {y_i})\")\n",
    "\n",
    "\n",
    "# 1st training example is 0th index\n"
   ]
  },
  {
   "cell_type": "code",
   "execution_count": 19,
   "id": "fcd543c0",
   "metadata": {},
   "outputs": [
    {
     "data": {
      "image/png": "[encoded data removed]",
      "text/plain": [
       "<Figure size 640x480 with 1 Axes>"
      ]
     },
     "metadata": {},
     "output_type": "display_data"
    }
   ],
   "source": [
    "# plotting all the points to visualize\n",
    "\n",
    "#  arguments are x_train, y_train, marker type, color\n",
    "plt.scatter(x_train, y_train, marker = \"x\", c = \"r\")\n",
    "\n",
    "# set title of groph\n",
    "plt.title(\"training data\")\n",
    "\n",
    "# set x_axis  label\n",
    "plt.xlabel(\"size\")\n",
    "\n",
    "# set y_axis label\n",
    "plt.ylabel(\"price\")\n",
    "\n",
    "# show the graph\n",
    "plt.show()\n"
   ]
  },
  {
   "cell_type": "code",
   "execution_count": 20,
   "id": "ab3b0717",
   "metadata": {},
   "outputs": [],
   "source": [
    "# considering the values of parameters w and b as\n",
    "w = 200\n",
    "b = 100"
   ]
  },
  {
   "cell_type": "code",
   "execution_count": 21,
   "id": "a9509bec",
   "metadata": {},
   "outputs": [
    {
     "name": "stdout",
     "output_type": "stream",
     "text": [
      "w: 200\n",
      "b: 100\n"
     ]
    }
   ],
   "source": [
    "print(f\"w: {w}\")\n",
    "print(f\"b: {b}\")"
   ]
  },
  {
   "cell_type": "code",
   "execution_count": 27,
   "id": "7f8ba22c",
   "metadata": {},
   "outputs": [
    {
     "name": "stdout",
     "output_type": "stream",
     "text": [
      "[0. 0. 0. 0. 0.]\n"
     ]
    }
   ],
   "source": [
    "f_wb = np.zeros(m)\n",
    "# np.zeros create a null array of given size\n",
    "print(f_wb)"
   ]
  },
  {
   "cell_type": "code",
   "execution_count": 32,
   "id": "1fc3e6ec",
   "metadata": {},
   "outputs": [
    {
     "name": "stdout",
     "output_type": "stream",
     "text": [
      "[[0. 0. 0. 0.]\n",
      " [0. 0. 0. 0.]\n",
      " [0. 0. 0. 0.]]\n"
     ]
    }
   ],
   "source": [
    "# if you want a matriz it will give as\n",
    "print(np.zeros([3,4]))\n",
    "# three rows and four columns"
   ]
  },
  {
   "cell_type": "code",
   "execution_count": 33,
   "id": "c1ead786",
   "metadata": {},
   "outputs": [
    {
     "data": {
      "text/plain": [
       "array([0., 0., 0., 0., 0.])"
      ]
     },
     "execution_count": 33,
     "metadata": {},
     "output_type": "execute_result"
    }
   ],
   "source": [
    "f_wb"
   ]
  },
  {
   "cell_type": "code",
   "execution_count": 40,
   "id": "36ac4566",
   "metadata": {},
   "outputs": [
    {
     "name": "stdout",
     "output_type": "stream",
     "text": [
      "[ 300.  500.  700.  900. 1500.]\n"
     ]
    }
   ],
   "source": [
    "# function will fit the staright line according to w and b\n",
    "\n",
    "f_wb[0] = w*x_train[0]+ b\n",
    "f_wb[1] = w*x_train[1]+ b\n",
    "f_wb[2] = w*x_train[2]+ b\n",
    "f_wb[3] = w*x_train[3]+ b\n",
    "f_wb[4] = w*x_train[4]+ b\n",
    "print(f_wb)"
   ]
  },
  {
   "cell_type": "code",
   "execution_count": 44,
   "id": "45440eea",
   "metadata": {},
   "outputs": [
    {
     "name": "stdout",
     "output_type": "stream",
     "text": [
      "[ 300.  500.  700.  900. 1500.]\n"
     ]
    }
   ],
   "source": [
    "\n",
    "def compute(w, b, x):\n",
    "    \"\"\"\n",
    "    Compute the prediction of linear model\n",
    "    Args:\n",
    "        x (ndarray(m,)) : Data, m examples\n",
    "        w,b (scalar)    : model parameters\n",
    "\n",
    "    returns:\n",
    "        f_wb (ndarray(m,)): model prediction\n",
    "    \n",
    "    \"\"\"\n",
    "    m = x.shape[0]\n",
    "\n",
    "    f_wb = np.zeros(m)\n",
    "\n",
    "    for i in range(m):\n",
    "        f_wb[i] = w*x[i] +b\n",
    "    return f_wb\n",
    "\n",
    "\n",
    "print(compute( w, b, x_train))\n"
   ]
  },
  {
   "cell_type": "code",
   "execution_count": 47,
   "id": "72fe93c7",
   "metadata": {},
   "outputs": [],
   "source": [
    "y_pred = compute(w, b, x_train)"
   ]
  },
  {
   "cell_type": "code",
   "execution_count": 48,
   "id": "04acb85b",
   "metadata": {},
   "outputs": [
    {
     "data": {
      "image/png": "[encoded data removed]",
      "text/plain": [
       "<Figure size 640x480 with 1 Axes>"
      ]
     },
     "metadata": {},
     "output_type": "display_data"
    }
   ],
   "source": [
    "plt.scatter(x_train, y_train, marker = \"x\", c = \"r\")\n",
    "plt.plot(x_train, y_pred, c = \"b\")\n",
    "\n",
    "plt.xlabel(\"size\")\n",
    "plt.ylabel(\"price\")\n",
    "plt.show()"
   ]
  },
  {
   "cell_type": "code",
   "execution_count": null,
   "id": "4cbdfee0",
   "metadata": {},
   "outputs": [],
   "source": []
  }
 ],
 "metadata": {
  "kernelspec": {
   "display_name": "Python 3",
   "language": "python",
   "name": "python3"
  },
  "language_info": {
   "codemirror_mode": {
    "name": "ipython",
    "version": 3
   },
   "file_extension": ".py",
   "mimetype": "text/x-python",
   "name": "python",
   "nbconvert_exporter": "python",
   "pygments_lexer": "ipython3",
   "version": "3.13.2"
  }
 },
 "nbformat": 4,
 "nbformat_minor": 5
}
