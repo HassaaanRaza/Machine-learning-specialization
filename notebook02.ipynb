{
 "cells": [
  {
   "cell_type": "code",
   "execution_count": null,
   "id": "01ba7032",
   "metadata": {},
   "outputs": [],
   "source": [
    "# this is the second notebook of machine elanring specialization by andrew ng"
   ]
  }
 ],
 "metadata": {
  "language_info": {
   "name": "python"
  }
 },
 "nbformat": 4,
 "nbformat_minor": 5
}
