{
 "cells": [
  {
   "cell_type": "code",
   "execution_count": 1,
   "id": "01ba7032",
   "metadata": {},
   "outputs": [],
   "source": [
    "# this is the second notebook of machine elanring specialization by andrew ng\n",
    "import numpy as np\n",
    "import matplotlib.pyplot as plt"
   ]
  },
  {
   "cell_type": "code",
   "execution_count": 2,
   "id": "1bdc079d",
   "metadata": {},
   "outputs": [],
   "source": [
    "# DATASET\n",
    "X_train = np.array([1.0, 2.0])\n",
    "y_train = np.array([300.0, 500.0])"
   ]
  },
  {
   "cell_type": "code",
   "execution_count": 14,
   "id": "08d11c43",
   "metadata": {},
   "outputs": [],
   "source": [
    "# assuming value of w and b\n",
    "w = 200\n",
    "b = 100"
   ]
  },
  {
   "cell_type": "code",
   "execution_count": 12,
   "id": "f7aa6048",
   "metadata": {},
   "outputs": [],
   "source": [
    "def compute_cost(x, y, w, b):\n",
    "    \"\"\"\n",
    "    Compute the cost function for linear regression.\n",
    "\n",
    "    Args:\n",
    "        x (ndarray(m,)): Input features, m examples\n",
    "        y (ndarray(m,)): Target values\n",
    "        w (float): Weight parameter\n",
    "        b (float): Bias parameter\n",
    "\n",
    "    Returns:\n",
    "        float: The cost (mean squared error / 2) of using w, b as parameters\n",
    "               to fit the data points x and y.\n",
    "    \"\"\"\n",
    "    m = x.shape[0]  # number of training examples\n",
    "    cost_sum = 0.0\n",
    "\n",
    "    # Loop through all training examples\n",
    "    for i in range(m):\n",
    "        f_wb = w * x[i] + b       # prediction\n",
    "        cost = (f_wb - y[i])**2   # squared error\n",
    "        cost_sum += cost\n",
    "\n",
    "    # Average cost\n",
    "    total_cost = (1 / (2 * m)) * cost_sum\n",
    "    return total_cost\n"
   ]
  },
  {
   "cell_type": "code",
   "execution_count": 15,
   "id": "ccbf6fd0",
   "metadata": {},
   "outputs": [
    {
     "name": "stdout",
     "output_type": "stream",
     "text": [
      "cost at w = 200, b = 100 : 0.0 \n"
     ]
    }
   ],
   "source": [
    "cost = compute_cost(X_train, y_train, w, b)\n",
    "\n",
    "print(f\"cost at w = {w}, b = {b} : {cost} \")"
   ]
  }
 ],
 "metadata": {
  "kernelspec": {
   "display_name": "Python 3",
   "language": "python",
   "name": "python3"
  },
  "language_info": {
   "codemirror_mode": {
    "name": "ipython",
    "version": 3
   },
   "file_extension": ".py",
   "mimetype": "text/x-python",
   "name": "python",
   "nbconvert_exporter": "python",
   "pygments_lexer": "ipython3",
   "version": "3.13.2"
  }
 },
 "nbformat": 4,
 "nbformat_minor": 5
}
